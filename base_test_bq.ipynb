{
 "cells": [
  {
   "cell_type": "code",
   "execution_count": null,
   "id": "6b373b99",
   "metadata": {},
   "outputs": [],
   "source": [
    "# BigQuery Authentication Test Notebook\n"
   ]
  },
  {
   "cell_type": "markdown",
   "id": "6656c0d9",
   "metadata": {},
   "source": [
    "# BigQuery Authentication Verification\n",
    "\n",
    "This notebook verifies that your Google Cloud Platform (GCP) BigQuery authentication is working correctly within your development environment. It demonstrates basic connectivity to BigQuery by:\n",
    "\n",
    "1. Displaying your current authentication information\n",
    "2. Listing all available BigQuery datasets in your project \n",
    "3. Running a simple test query\n",
    "\n",
    "## Prerequisites\n",
    "\n",
    "Before running this notebook, ensure you have:\n",
    "\n",
    "- Google Cloud SDK installed and initialized in your environment\n",
    "- 'google-cloud-bigquery' Python package installed\n",
    "- Valid GCP authentication completed via one of these methods:\n",
    "  - `gcloud auth login` (for user credentials)\n",
    "  - `gcloud auth application-default login` (for application default credentials)\n",
    "  - `GOOGLE_APPLICATION_CREDENTIALS` environment variable set (for service account)\n",
    "- Appropriate BigQuery permissions (at minimum 'BigQuery Data Viewer' role)\n"
   ]
  },
  {
   "cell_type": "code",
   "execution_count": null,
   "id": "d4b4a730",
   "metadata": {},
   "outputs": [],
   "source": [
    "# Configuration Variables\n",
    "# -----------------------\n",
    "# You can modify the query if desired\n",
    "TEST_QUERY = \"SELECT 1 as test\"\n",
    "\n",
    "# Project to test\n",
    "PROJECT_ID = \"your_project_here\"  # Replace this with your PROJECT ID\n"
   ]
  },
  {
   "cell_type": "markdown",
   "id": "9accda8b",
   "metadata": {},
   "source": [
    "## Setup Environment\n",
    "First, let's import the necessary libraries and create our BigQuery client:\n"
   ]
  },
  {
   "cell_type": "code",
   "execution_count": null,
   "id": "ff85bcbd",
   "metadata": {},
   "outputs": [],
   "source": [
    "# Import required libraries\n",
    "from google.cloud import bigquery\n",
    "import subprocess\n",
    "\n",
    "# Create a BigQuery client \n",
    "client = bigquery.Client(project=PROJECT_ID)  \n"
   ]
  },
  {
   "cell_type": "markdown",
   "id": "138c3a1c",
   "metadata": {},
   "source": [
    "## 1. Verify Authentication Information\n",
    "Let's check which account and project you're currently authenticated with:\n"
   ]
  },
  {
   "cell_type": "code",
   "execution_count": null,
   "id": "d1c45a04",
   "metadata": {},
   "outputs": [],
   "source": [
    "# Get authentication and project information\n",
    "print(\"GCP Authentication Information:\")\n",
    "try:\n",
    "    # Get project from client\n",
    "    current_project = client.project\n",
    "    print(f\"Current Project: {current_project}\")\n",
    "\n",
    "    # Get currently authenticated account\n",
    "    account_cmd = [\"gcloud\", \"config\", \"get-value\", \"account\"]\n",
    "    account = subprocess.check_output(account_cmd).decode().strip()\n",
    "    print(f\"Authenticated as: {account}\")\n",
    "\n",
    "except Exception as e:\n",
    "    print(f\"Error retrieving authentication info: {e}\")\n",
    "\n",
    "print(\"\\n\" + \"-\" * 50 + \"\\n\")\n"
   ]
  },
  {
   "cell_type": "markdown",
   "id": "53248e7a",
   "metadata": {},
   "source": [
    "## 2. List Available Datasets\n",
    "Now let's list all BigQuery datasets in your project:\n"
   ]
  },
  {
   "cell_type": "code",
   "execution_count": null,
   "id": "0787c027",
   "metadata": {},
   "outputs": [],
   "source": [
    "# List datasets\n",
    "print(\"Datasets in project:\")\n",
    "datasets = list(client.list_datasets())\n",
    "if datasets:\n",
    "    for dataset in datasets:\n",
    "        print(f\"- {dataset.dataset_id}\")\n",
    "else:\n",
    "    print(\"No datasets found\")\n"
   ]
  },
  {
   "cell_type": "markdown",
   "id": "8ecd8d40",
   "metadata": {},
   "source": [
    "## 3. Run a Test Query\n",
    "Finally, let's execute a simple query to confirm the connection is working properly:\n"
   ]
  },
  {
   "cell_type": "code",
   "execution_count": null,
   "id": "390405e2",
   "metadata": {},
   "outputs": [],
   "source": [
    "# Run a simple query\n",
    "query_job = client.query(TEST_QUERY)\n",
    "for row in query_job:\n",
    "    print(f\"Query result: {row.test}\")\n"
   ]
  },
  {
   "cell_type": "markdown",
   "id": "990c0e5f",
   "metadata": {},
   "source": [
    "## Interpreting Results\n",
    "\n",
    "### Success Criteria\n",
    "If the notebook ran without errors and you see:\n",
    "1. Your correct project ID and authentication email\n",
    "2. A list of datasets (or \"No datasets found\" if your project has no datasets)\n",
    "3. \"Query result: 1\" from the test query\n",
    "\n",
    "Then your BigQuery authentication is working correctly! You can now use this environment for BigQuery development and analysis.\n",
    "\n",
    "### Troubleshooting\n",
    "If you encountered any errors:\n",
    "\n",
    "- **Authentication issues**: Run `gcloud auth login` or `gcloud auth application-default login` in a terminal\n",
    "- **Permission issues**: Check that your account has appropriate BigQuery permissions\n",
    "- **No datasets**: This is normal for new or empty projects\n",
    "- **Project selection**: If testing with a specific project, ensure you have access to it\n"
   ]
  }
 ],
 "metadata": {
  "kernelspec": {
   "display_name": "Python 3",
   "language": "python",
   "name": "python3"
  },
  "language_info": {
   "codemirror_mode": {
    "name": "ipython",
    "version": 3
   },
   "file_extension": ".py",
   "mimetype": "text/x-python",
   "name": "python",
   "nbconvert_exporter": "python",
   "pygments_lexer": "ipython3",
   "version": "3.11.12"
  }
 },
 "nbformat": 4,
 "nbformat_minor": 5
}
